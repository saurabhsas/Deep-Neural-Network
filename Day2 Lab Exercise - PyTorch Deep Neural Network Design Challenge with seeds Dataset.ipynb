{
 "cells": [
  {
   "cell_type": "markdown",
   "id": "2588f159",
   "metadata": {},
   "source": [
    "* **Problem Statement:**\n",
    "    Your task is to create a deep neural network(DNN) using PyTorch for Seeds classification. Design a network architecture and train it to classify the datasets."
   ]
  },
  {
   "cell_type": "markdown",
   "id": "3ad21638",
   "metadata": {},
   "source": [
    "* **Requirements:**\n",
    "    1. Design a PyTorch DNN.\n",
    "    2. Define an appropriate loss function and optimizer for training the network.\n",
    "    3. Split the dataset for training and testing.\n",
    "    4. Train the network using the training dataset and validate it on the validation dataset.\n",
    "    5. Evaluate the trained model on the test dataset and report the accuracy."
   ]
  },
  {
   "cell_type": "code",
   "execution_count": 1,
   "id": "b3df708c",
   "metadata": {},
   "outputs": [],
   "source": [
    "import pandas as pd\n",
    "import numpy as np\n",
    "\n",
    "import torch\n",
    "import torch.nn as nn\n",
    "import torch.optim as optim\n",
    "from torch.utils.data import DataLoader, Dataset, random_split\n",
    "\n",
    "from sklearn.model_selection import train_test_split\n",
    "from sklearn.preprocessing import StandardScaler\n",
    "from sklearn.metrics import accuracy_score"
   ]
  },
  {
   "cell_type": "markdown",
   "id": "9de818f1",
   "metadata": {},
   "source": [
    "#### Step 1: Load the seeds dataset"
   ]
  },
  {
   "cell_type": "code",
   "execution_count": 2,
   "id": "1060ddcb",
   "metadata": {},
   "outputs": [
    {
     "data": {
      "text/html": [
       "<div>\n",
       "<style scoped>\n",
       "    .dataframe tbody tr th:only-of-type {\n",
       "        vertical-align: middle;\n",
       "    }\n",
       "\n",
       "    .dataframe tbody tr th {\n",
       "        vertical-align: top;\n",
       "    }\n",
       "\n",
       "    .dataframe thead th {\n",
       "        text-align: right;\n",
       "    }\n",
       "</style>\n",
       "<table border=\"1\" class=\"dataframe\">\n",
       "  <thead>\n",
       "    <tr style=\"text-align: right;\">\n",
       "      <th></th>\n",
       "      <th>area</th>\n",
       "      <th>perimeter</th>\n",
       "      <th>compactness</th>\n",
       "      <th>kernel_length</th>\n",
       "      <th>kernel_width</th>\n",
       "      <th>asymmetry_coefficient</th>\n",
       "      <th>groove_length</th>\n",
       "      <th>species</th>\n",
       "    </tr>\n",
       "  </thead>\n",
       "  <tbody>\n",
       "    <tr>\n",
       "      <th>0</th>\n",
       "      <td>15.26</td>\n",
       "      <td>14.84</td>\n",
       "      <td>0.8710</td>\n",
       "      <td>5.763</td>\n",
       "      <td>3.312</td>\n",
       "      <td>2.221</td>\n",
       "      <td>5.220</td>\n",
       "      <td>0</td>\n",
       "    </tr>\n",
       "    <tr>\n",
       "      <th>1</th>\n",
       "      <td>14.88</td>\n",
       "      <td>14.57</td>\n",
       "      <td>0.8811</td>\n",
       "      <td>5.554</td>\n",
       "      <td>3.333</td>\n",
       "      <td>1.018</td>\n",
       "      <td>4.956</td>\n",
       "      <td>0</td>\n",
       "    </tr>\n",
       "    <tr>\n",
       "      <th>2</th>\n",
       "      <td>14.29</td>\n",
       "      <td>14.09</td>\n",
       "      <td>0.9050</td>\n",
       "      <td>5.291</td>\n",
       "      <td>3.337</td>\n",
       "      <td>2.699</td>\n",
       "      <td>4.825</td>\n",
       "      <td>0</td>\n",
       "    </tr>\n",
       "    <tr>\n",
       "      <th>3</th>\n",
       "      <td>13.84</td>\n",
       "      <td>13.94</td>\n",
       "      <td>0.8955</td>\n",
       "      <td>5.324</td>\n",
       "      <td>3.379</td>\n",
       "      <td>2.259</td>\n",
       "      <td>4.805</td>\n",
       "      <td>0</td>\n",
       "    </tr>\n",
       "    <tr>\n",
       "      <th>4</th>\n",
       "      <td>16.14</td>\n",
       "      <td>14.99</td>\n",
       "      <td>0.9034</td>\n",
       "      <td>5.658</td>\n",
       "      <td>3.562</td>\n",
       "      <td>1.355</td>\n",
       "      <td>5.175</td>\n",
       "      <td>0</td>\n",
       "    </tr>\n",
       "  </tbody>\n",
       "</table>\n",
       "</div>"
      ],
      "text/plain": [
       "    area  perimeter  compactness  kernel_length  kernel_width  \\\n",
       "0  15.26      14.84       0.8710          5.763         3.312   \n",
       "1  14.88      14.57       0.8811          5.554         3.333   \n",
       "2  14.29      14.09       0.9050          5.291         3.337   \n",
       "3  13.84      13.94       0.8955          5.324         3.379   \n",
       "4  16.14      14.99       0.9034          5.658         3.562   \n",
       "\n",
       "   asymmetry_coefficient  groove_length  species  \n",
       "0                  2.221          5.220        0  \n",
       "1                  1.018          4.956        0  \n",
       "2                  2.699          4.825        0  \n",
       "3                  2.259          4.805        0  \n",
       "4                  1.355          5.175        0  "
      ]
     },
     "execution_count": 2,
     "metadata": {},
     "output_type": "execute_result"
    }
   ],
   "source": [
    "data = pd.read_csv('seeds.csv')\n",
    "data.head()"
   ]
  },
  {
   "cell_type": "code",
   "execution_count": 3,
   "id": "395ff8e5",
   "metadata": {},
   "outputs": [
    {
     "data": {
      "text/plain": [
       "pandas.core.indexes.base.Index"
      ]
     },
     "execution_count": 3,
     "metadata": {},
     "output_type": "execute_result"
    }
   ],
   "source": [
    "column_names = data.columns\n",
    "type(column_names)"
   ]
  },
  {
   "cell_type": "code",
   "execution_count": 4,
   "id": "1c1f50dd",
   "metadata": {},
   "outputs": [
    {
     "data": {
      "text/plain": [
       "<Axes: title={'center': 'Distribution of Target Variable'}, ylabel='species'>"
      ]
     },
     "execution_count": 4,
     "metadata": {},
     "output_type": "execute_result"
    },
    {
     "data": {
      "image/png": "[encoded data removed]",
      "text/plain": [
       "<Figure size 640x480 with 1 Axes>"
      ]
     },
     "metadata": {},
     "output_type": "display_data"
    }
   ],
   "source": [
    "data.species.value_counts().plot.pie(autopct='%.2f',\n",
    "                                    labels=[0, 1, 2],\n",
    "                                    title='Distribution of Target Variable')"
   ]
  },
  {
   "cell_type": "markdown",
   "id": "d837fff6",
   "metadata": {},
   "source": [
    "#### Step 2: Prepare the data"
   ]
  },
  {
   "cell_type": "code",
   "execution_count": 5,
   "id": "cdd898b8",
   "metadata": {},
   "outputs": [],
   "source": [
    "X = data.iloc[:, :-1].values\n",
    "y = data.iloc[:, -1].values"
   ]
  },
  {
   "cell_type": "code",
   "execution_count": 6,
   "id": "7dde8c89",
   "metadata": {},
   "outputs": [
    {
     "data": {
      "text/plain": [
       "array([[15.26  , 14.84  ,  0.871 ,  5.763 ,  3.312 ,  2.221 ,  5.22  ],\n",
       "       [14.88  , 14.57  ,  0.8811,  5.554 ,  3.333 ,  1.018 ,  4.956 ],\n",
       "       [14.29  , 14.09  ,  0.905 ,  5.291 ,  3.337 ,  2.699 ,  4.825 ],\n",
       "       [13.84  , 13.94  ,  0.8955,  5.324 ,  3.379 ,  2.259 ,  4.805 ],\n",
       "       [16.14  , 14.99  ,  0.9034,  5.658 ,  3.562 ,  1.355 ,  5.175 ]])"
      ]
     },
     "execution_count": 6,
     "metadata": {},
     "output_type": "execute_result"
    }
   ],
   "source": [
    "X[:5]"
   ]
  },
  {
   "cell_type": "code",
   "execution_count": 7,
   "id": "eff67a94",
   "metadata": {},
   "outputs": [
    {
     "data": {
      "text/plain": [
       "array([0, 0, 0, 0, 0, 0, 0, 0, 0, 0, 0, 0, 0, 0, 0, 0, 0, 0, 0, 0, 0, 0,\n",
       "       0, 0, 0, 0, 0, 0, 0, 0, 0, 0, 0, 0, 0, 0, 0, 0, 0, 0, 0, 0, 0, 0,\n",
       "       0, 0, 0, 0, 0, 0, 0, 0, 0, 0, 0, 0, 0, 0, 0, 0, 0, 0, 0, 0, 0, 0,\n",
       "       0, 0, 0, 0, 1, 1, 1, 1, 1, 1, 1, 1, 1, 1, 1, 1, 1, 1, 1, 1, 1, 1,\n",
       "       1, 1, 1, 1, 1, 1, 1, 1, 1, 1, 1, 1, 1, 1, 1, 1, 1, 1, 1, 1, 1, 1,\n",
       "       1, 1, 1, 1, 1, 1, 1, 1, 1, 1, 1, 1, 1, 1, 1, 1, 1, 1, 1, 1],\n",
       "      dtype=int64)"
      ]
     },
     "execution_count": 7,
     "metadata": {},
     "output_type": "execute_result"
    }
   ],
   "source": [
    "y[:130]"
   ]
  },
  {
   "cell_type": "markdown",
   "id": "a0d5a7fd",
   "metadata": {},
   "source": [
    "#### Step 3: Standardize the features"
   ]
  },
  {
   "cell_type": "code",
   "execution_count": 8,
   "id": "222d05f3",
   "metadata": {},
   "outputs": [],
   "source": [
    "scaler = StandardScaler()\n",
    "X = scaler.fit_transform(X)"
   ]
  },
  {
   "cell_type": "markdown",
   "id": "034fe298",
   "metadata": {},
   "source": [
    "#### Step 4: Convert to PyTorch Tensors"
   ]
  },
  {
   "cell_type": "code",
   "execution_count": 9,
   "id": "df3fdc3b",
   "metadata": {},
   "outputs": [],
   "source": [
    "X = torch.tensor(X, dtype=torch.float32)\n",
    "y = torch.tensor(y, dtype=torch.long)"
   ]
  },
  {
   "cell_type": "markdown",
   "id": "367d35ca",
   "metadata": {},
   "source": [
    "#### Step 5: Define a custom dataset and create data loaders for training and testing."
   ]
  },
  {
   "cell_type": "code",
   "execution_count": 10,
   "id": "a20fca06",
   "metadata": {},
   "outputs": [],
   "source": [
    "class SeedsDataset(Dataset):\n",
    "    def __init__(self, X, y):\n",
    "        self.X = X\n",
    "        self.y = y\n",
    "\n",
    "    def __len__(self):\n",
    "        return len(self.y)\n",
    "\n",
    "    def __getitem__(self, idx):\n",
    "        return self.X[idx], self.y[idx]"
   ]
  },
  {
   "cell_type": "code",
   "execution_count": 11,
   "id": "e836a617",
   "metadata": {},
   "outputs": [
    {
     "data": {
      "text/plain": [
       "__main__.SeedsDataset"
      ]
     },
     "execution_count": 11,
     "metadata": {},
     "output_type": "execute_result"
    }
   ],
   "source": [
    "dataset = SeedsDataset(X, y)\n",
    "type(dataset)"
   ]
  },
  {
   "cell_type": "code",
   "execution_count": 12,
   "id": "28d7604e",
   "metadata": {},
   "outputs": [],
   "source": [
    "# Split dataset into training and testing sets\n",
    "train_size = int(0.8 * len(dataset))\n",
    "test_size = len(dataset) - train_size\n",
    "train_dataset, test_dataset = random_split(dataset, [train_size, test_size])"
   ]
  },
  {
   "cell_type": "code",
   "execution_count": 13,
   "id": "9db70818",
   "metadata": {},
   "outputs": [],
   "source": [
    "train_loader = DataLoader(train_dataset, batch_size=16, shuffle=True)\n",
    "test_loader = DataLoader(test_dataset, batch_size=16, shuffle=False)"
   ]
  },
  {
   "cell_type": "markdown",
   "id": "58267f58",
   "metadata": {},
   "source": [
    "#### Step 6: Design the PyTorch DNN \n",
    "##### Define the network architecture"
   ]
  },
  {
   "cell_type": "code",
   "execution_count": 14,
   "id": "fe6ead8c",
   "metadata": {},
   "outputs": [],
   "source": [
    "class DNN(nn.Module):\n",
    "    def __init__(self):\n",
    "        super(DNN, self).__init__()\n",
    "        self.fc1 = nn.Linear(7, 64)\n",
    "        self.fc2 = nn.Linear(64, 32)\n",
    "        self.fc3 = nn.Linear(32, 16)\n",
    "        self.fc4 = nn.Linear(16, 3)\n",
    "        self.relu = nn.ReLU()\n",
    "\n",
    "    def forward(self, x):\n",
    "        x = self.relu(self.fc1(x))\n",
    "        x = self.relu(self.fc2(x))\n",
    "        x = self.relu(self.fc3(x))\n",
    "        x = self.fc4(x)\n",
    "        return x\n",
    "\n",
    "model = DNN()"
   ]
  },
  {
   "cell_type": "markdown",
   "id": "c9348984",
   "metadata": {},
   "source": [
    "**Class Definition:** Define a custom neural network class DNN that inherits from nn.Module, which is the base class for all neural network modules in PyTorch.This class contains the layers and the forward method to define the forward pass.\n",
    "\n",
    "**Layer Initialization:** the __init__ method, we define the layers of the network. Each layer is an instance of nn.Linear, which applies a linear transformation to the incoming data.\n",
    "\n",
    "**Input Layer:** The input layer has 7 features (corresponding to the 7 features in the Seeds dataset).\n",
    "\n",
    "**Hidden Layers:**\n",
    "1). The first hidden layer has 64 neurons.\n",
    "2). The second hidden layer has 32 neurons.\n",
    "3). The third hidden layer has 16 neurons.\n",
    "\n",
    "**Output Layer:** The output layer has 3 neurons, corresponding to the 3 classes in the target variable.\n",
    "\n",
    "**Activation Function:** The ReLU (Rectified Linear Unit) activation function is applied after each hidden layer to introduce non-linearity into the model, allowing it to learn complex patterns in the data."
   ]
  },
  {
   "cell_type": "markdown",
   "id": "6954ccc0",
   "metadata": {},
   "source": [
    "#### Step 7: Define Loss Function and Optimizer"
   ]
  },
  {
   "cell_type": "code",
   "execution_count": 15,
   "id": "9c0cf706",
   "metadata": {},
   "outputs": [],
   "source": [
    "criterion = nn.CrossEntropyLoss()\n",
    "optimizer = optim.Adam(model.parameters(), lr=0.001)"
   ]
  },
  {
   "cell_type": "markdown",
   "id": "d6d5bcbc",
   "metadata": {},
   "source": [
    "#### Step 8: Train and Validate the Model"
   ]
  },
  {
   "cell_type": "code",
   "execution_count": 16,
   "id": "c1daa6a4",
   "metadata": {},
   "outputs": [
    {
     "name": "stdout",
     "output_type": "stream",
     "text": [
      "Epoch 1/50, Loss: 1.0963\n",
      "Epoch 2/50, Loss: 1.0591\n",
      "Epoch 3/50, Loss: 1.0019\n",
      "Epoch 4/50, Loss: 0.8991\n",
      "Epoch 5/50, Loss: 0.7654\n",
      "Epoch 6/50, Loss: 0.6419\n",
      "Epoch 7/50, Loss: 0.5130\n",
      "Epoch 8/50, Loss: 0.3954\n",
      "Epoch 9/50, Loss: 0.3031\n",
      "Epoch 10/50, Loss: 0.2566\n",
      "Epoch 11/50, Loss: 0.2202\n",
      "Epoch 12/50, Loss: 0.1994\n",
      "Epoch 13/50, Loss: 0.1912\n",
      "Epoch 14/50, Loss: 0.1798\n",
      "Epoch 15/50, Loss: 0.1657\n",
      "Epoch 16/50, Loss: 0.1711\n",
      "Epoch 17/50, Loss: 0.1457\n",
      "Epoch 18/50, Loss: 0.1431\n",
      "Epoch 19/50, Loss: 0.1375\n",
      "Epoch 20/50, Loss: 0.1344\n",
      "Epoch 21/50, Loss: 0.1274\n",
      "Epoch 22/50, Loss: 0.1241\n",
      "Epoch 23/50, Loss: 0.1241\n",
      "Epoch 24/50, Loss: 0.1190\n",
      "Epoch 25/50, Loss: 0.1202\n",
      "Epoch 26/50, Loss: 0.1206\n",
      "Epoch 27/50, Loss: 0.1085\n",
      "Epoch 28/50, Loss: 0.0981\n",
      "Epoch 29/50, Loss: 0.0922\n",
      "Epoch 30/50, Loss: 0.0905\n",
      "Epoch 31/50, Loss: 0.0961\n",
      "Epoch 32/50, Loss: 0.0923\n",
      "Epoch 33/50, Loss: 0.0862\n",
      "Epoch 34/50, Loss: 0.0831\n",
      "Epoch 35/50, Loss: 0.0760\n",
      "Epoch 36/50, Loss: 0.0832\n",
      "Epoch 37/50, Loss: 0.0795\n",
      "Epoch 38/50, Loss: 0.0834\n",
      "Epoch 39/50, Loss: 0.0754\n",
      "Epoch 40/50, Loss: 0.0764\n",
      "Epoch 41/50, Loss: 0.0644\n",
      "Epoch 42/50, Loss: 0.0707\n",
      "Epoch 43/50, Loss: 0.0692\n",
      "Epoch 44/50, Loss: 0.0650\n",
      "Epoch 45/50, Loss: 0.0601\n",
      "Epoch 46/50, Loss: 0.0647\n",
      "Epoch 47/50, Loss: 0.0574\n",
      "Epoch 48/50, Loss: 0.0568\n",
      "Epoch 49/50, Loss: 0.0496\n",
      "Epoch 50/50, Loss: 0.0466\n"
     ]
    }
   ],
   "source": [
    "num_epochs = 50\n",
    "\n",
    "for epoch in range(num_epochs):\n",
    "    model.train()\n",
    "    running_loss = 0.0\n",
    "    for inputs, labels in train_loader:\n",
    "        optimizer.zero_grad()\n",
    "        outputs = model(inputs)\n",
    "        loss = criterion(outputs, labels)\n",
    "        loss.backward()\n",
    "        optimizer.step()\n",
    "        running_loss += loss.item()\n",
    "\n",
    "    print(f'Epoch {epoch+1}/{num_epochs}, Loss: {running_loss/len(train_loader):.4f}')"
   ]
  },
  {
   "cell_type": "markdown",
   "id": "66e2089c",
   "metadata": {},
   "source": [
    "#### Step 9: Evaluate the Model\n",
    "##### Evaluate the model on the test dataset and report the accuracy."
   ]
  },
  {
   "cell_type": "code",
   "execution_count": 17,
   "id": "795c1b19",
   "metadata": {},
   "outputs": [
    {
     "name": "stdout",
     "output_type": "stream",
     "text": [
      "Accuracy: 0.8571\n"
     ]
    }
   ],
   "source": [
    "model.eval()\n",
    "all_preds = []\n",
    "all_labels = []\n",
    "\n",
    "with torch.no_grad():\n",
    "    for inputs, labels in test_loader:\n",
    "        outputs = model(inputs)\n",
    "        _, preds = torch.max(outputs, 1)\n",
    "        all_preds.extend(preds.numpy())\n",
    "        all_labels.extend(labels.numpy())\n",
    "\n",
    "accuracy = accuracy_score(all_labels, all_preds)\n",
    "print(f'Accuracy: {accuracy:.4f}')"
   ]
  },
  {
   "cell_type": "markdown",
   "id": "2fea3b2d",
   "metadata": {},
   "source": [
    "#### Summary\n",
    "* Data Preparation: Load and preprocess the Seeds dataset.\n",
    "* Dataset and DataLoader: Create a custom dataset and data loaders for training and testing.\n",
    "* Network Architecture: Define a deep neural network with multiple hidden layers.\n",
    "* Loss Function and Optimizer: Use cross-entropy loss and Adam optimizer.\n",
    "* Training: Train the model for a specified number of epochs, monitoring the loss.\n",
    "* Evaluation: Evaluate the model on the test dataset and report the accuracy."
   ]
  },
  {
   "cell_type": "code",
   "execution_count": null,
   "id": "3ea1814e",
   "metadata": {},
   "outputs": [],
   "source": []
  }
 ],
 "metadata": {
  "kernelspec": {
   "display_name": "Python 3 (ipykernel)",
   "language": "python",
   "name": "python3"
  },
  "language_info": {
   "codemirror_mode": {
    "name": "ipython",
    "version": 3
   },
   "file_extension": ".py",
   "mimetype": "text/x-python",
   "name": "python",
   "nbconvert_exporter": "python",
   "pygments_lexer": "ipython3",
   "version": "3.11.5"
  }
 },
 "nbformat": 4,
 "nbformat_minor": 5
}
